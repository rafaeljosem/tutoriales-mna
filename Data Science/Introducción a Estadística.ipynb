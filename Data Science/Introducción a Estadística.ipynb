{
 "cells": [
  {
   "cell_type": "markdown",
   "metadata": {},
   "source": [
    "#### **Introducción a la Estadística**"
   ]
  },
  {
   "cell_type": "markdown",
   "metadata": {},
   "source": [
    "En este tutorial vamos a entender un poco de que se trata la estadística y a repasar algunos conceptos que serán útiles en temas que se verán más adelante. En resumen, estos son los temas que exploraremos en este tutorial:\n",
    "\n",
    "1. ¿Qué es la Estadística?\n",
    "2. Entendiendo el concepto de variación\n",
    "3. Introducción a la estadística descriptiva\n",
    "4. Medidas de Tendencia Central\n",
    "5. Medidas de Dispersión\n",
    "\n",
    "¡Ahora sí! ¡Empecemos!\n",
    "\n",
    "Abróchate el cinturón y disfruta del viaje. Se esperan algunas turbulencias, pero haré lo posible para que sea un viaje seguro."
   ]
  },
  {
   "cell_type": "markdown",
   "metadata": {},
   "source": [
    "#### **¿Qué es la estadística?**\n",
    "\n",
    "En términos muy simples. la estadística no hace más que estudiar la variación. Ajá, pero entonces, ¿qué es eso de la variación?\n",
    "\n",
    "A medida que vayas viendo temas más avanzados de estadística vas a notar que se habla mucho de variación (por ej. el modelo que mejor explica la variación). Así que comencemos entendiendo este concepto. \n",
    "\n",
    "La variación forma parte de la vida. Las personas tienen opiniones diferentes, dos lapiceros de la misma marca y mismo color tienen tonos de tintas diferentes (auqnue tal vez imperceptibles para el ojo humano), la comida que cocinas (o te cocinan) no siempre tendrá la misma cantidad de sal (a veces tendrá un poco más, a veces tendrá un poco menos), dos computadoras del mismo modelo, misma marca, mismos specs no tendrá el mismo desempeño (aunque de nuevo, tal vez no lo puedas percibir). En fin, creo que vas entiendo por donde voy.\n",
    "\n",
    "Lo anterior significa que **la estadística existe proque la variación existe**. Si de repente todos pensáramos igual no tendría sentido hacer encuestas de opinión (para qué, si todos dirán lo mismo). Si todos tuviésemos la misma capacidad, recursos y ambiente para aprender, no tendría sentido sacar un promedio del desempeño para un curso (¿Para qué, si al final todos sacarán lo mismo?) y asú sucesivamente.\n",
    "\n",
    "Por tanto, la estadística lo que hace es **usar métodos y técnicas para poder estudiar esa variación y sacar conclusiones.** Por ejemplo, las encuestas de preferencia electoral se hacen para ver cuál es el candidato con más posibilidades de ganar. En otras palabras, estamos estudiando la variación que hay en preferencia de la población hábil para votar para poder sacar una conclusión (y el político poder estimar si necesita inventarse más mentiras para atraer a las presas).\n",
    "\n",
    "Todo lo anterior aplica también para Machine Learning. Por ejemplo, los modelos de machine learning lo que buscan es predecir un resultado con cierto grado de confiabilidad. Pero, cómo puedo predecir un resultado si este puede variar en función de distintos factores? ¿Qué técnicas o herramientas puedo usar para poder buscar patrones en esa variación, que tal vez como humanos no podemos identificar, y así predecir un resultado?\n",
    "\n",
    "¡Ajá! ¡La estadística!\n",
    "\n",
    "Creo que ya entendemos bien el concepto, ahora pasemos a algunas técnicas estadísticas. Posiblemente algunas las conoces y otras no."
   ]
  },
  {
   "cell_type": "markdown",
   "metadata": {},
   "source": [
    "#### **Introducción a la Estadística Descriptiva**\n",
    "\n",
    "La estadística descriptiva es la parte de la estadística que resume un conjunto de datos dado. Este conjunto de datos puede venir de una población o de una muestra. Pongamos un pequeño ejemplo:\n",
    "\n",
    "Supongamos que tu jefe te dio un excel con los siguientes datos. Estos datos son los tiempos de respuesta de un servicio de atención al cliente y están expresados en minutos:"
   ]
  },
  {
   "cell_type": "code",
   "execution_count": 18,
   "metadata": {},
   "outputs": [],
   "source": [
    "\n",
    "tiempos  = [15,10,80,10,30,25,12,10,9,12,45,10,48,20,32,33,10,52,100,10,22,23,14,27,5,8,9]\n",
    "\n",
    "'''\n",
    "¿Qué significa ese código?\n",
    "\n",
    "En python esto se conoce como una lista y justamente lo que contiene es una lista de núnmeros (que en nuestro caso representan tiempos). Esa lista de números\n",
    "es almacenada en una variable llamada \"tiempos\". Una lista en python puede estar compuesta de números, letras, otras listas, etc.\n",
    "'''\n",
    "\n",
    "None"
   ]
  },
  {
   "cell_type": "markdown",
   "metadata": {},
   "source": [
    "Viendo los datos tal y cómo están presentados, ¿qué conclusión podrías sacar? Está difícil poder sacar una conslusión sin procesarlos de alguna manera, ¿verdad?\n",
    "\n",
    "Aquí es donde entra la estadística descriptiva. La idea es poder resumir esos datos para que sean mucho más digerible y podamos sacar conclusiones a partir de ellos. Así que veamos algunas técnicas para poder resumir estos datos.\n",
    "\n",
    "Estas técnicas se dividen en medidas de tendencia central y medidas de dispersión. Comencemos viendo las medidas de tendencia central."
   ]
  },
  {
   "cell_type": "markdown",
   "metadata": {},
   "source": [
    "#### **Medidas de Tendencia Central**\n",
    "\n",
    "##### **La media**\n",
    "\n",
    "La media o promedio es el estadístico más popular, y el más abusado (pobrecito, no le pagan suficiente snif snif). \n",
    "\n",
    "**WARNING - TURBULENCE ZONE**\n",
    "\n",
    "La media lo que hace es buscar el punto donde se concentran la mayoría de los datos. Podemos ver la media como un centro de gravedad. Por ejemplo, la \"media\" de nuestro cuerpo viene siendo más o menos el área por donde está el ombligo, ya que esa es la zona donde se concentra todo nuestro peso.\n",
    "\n",
    "Lo interesante de ver la media como el centro de gravedad de los datos es que no necesariamente la media será el centro. Volvamos al centro de gravedad.\n",
    "\n",
    "Imáginate a un Gymholic que solo haga ejercicios de pecho y olvida el leg day. Llega a un punto que parece un globo inflado, un Johny Bravo hecho real, y todo su peso se concentra en esa zona (Tienes que imaginarte algo bien exagerado para que el ejemplo funcione. Algo como el pecho de Hulk, pero de la cintura para bajo es como una barbie). Eso significa que su centro de gravedad va a estar arriba del ombligo, porque ahí es donde está la mayor concentración de peso.\n",
    "\n",
    "Con la media ocurre lo mismo. Esta se va a mover a donde esté la mayor cantidad de datos. Pongamos dos ejemplos numéricos. Vamos a suponer que estás haciendo un estudio de cuánto ganan los estudiantes de MNA y te pasan una lista de salarios (en USD) para que saques la media:"
   ]
  },
  {
   "cell_type": "code",
   "execution_count": 3,
   "metadata": {},
   "outputs": [
    {
     "data": {
      "text/plain": [
       "123.125"
      ]
     },
     "execution_count": 3,
     "metadata": {},
     "output_type": "execute_result"
    }
   ],
   "source": [
    "#Importamos la librería numpy para usar sus funciones. La librería se llama numpy pero para facilidad queremos apodarla como np. \n",
    "#La podemos apodar como queramos. Si quieres, le puedes llamar pepito y quedaría como import numpy as pepito\n",
    "import numpy as np \n",
    "\n",
    "salarios = [100,150,130,115,100,113,145,132] #Definimos otra lista de python\n",
    "\n",
    "np.mean(salarios) #Usamos el método mean (media) para que calcule la media de la lista definida arriba.\n",
    "\n"
   ]
  },
  {
   "cell_type": "markdown",
   "metadata": {},
   "source": [
    "El resultado anterior nos da 123.125, lo cual sería el centro de gravedad de nuestros datos, y tiene sentido si miramos el conjunto de datos. Todos los vamores mas o menos se concentran alrededor de ese número. \n",
    "\n",
    "Posiblemente ahora te estés preguntando \"¿Por qué estás complicando un concepto tan simple que uso todos los días?\"\n",
    "\n",
    "Porque la media tiene un serio problema, y es que es sensible a valores atípicos. Es justo en esta parte donde hace sentido el concepto de centro de gravedad. Volvamos al ejemplo anterior, pero ahora supongamos que Bill Gates decidió cursar la maestría con nosotros (y también aplicó para la beca de trayectoria profesional y le dieron un 30%).\n",
    "\n",
    "Como tenemos un nuevo estudiante con nosotros, debemos actualizar nuestra lista anterior con el salario de Bill Gates:"
   ]
  },
  {
   "cell_type": "code",
   "execution_count": 4,
   "metadata": {},
   "outputs": [
    {
     "data": {
      "text/plain": [
       "166666776.1111111"
      ]
     },
     "execution_count": 4,
     "metadata": {},
     "output_type": "execute_result"
    }
   ],
   "source": [
    "\n",
    "#Como salarios es una lista de python, tengo acceso al método append. \n",
    "# Esto lo que hace es anexar al final de la lista el valor que está dentro del paréntesis\n",
    "salarios.append(1500000000)\n",
    "\n",
    "#Vamos a calcular la media con el nuevo valor\n",
    "np.mean(salarios)"
   ]
  },
  {
   "cell_type": "markdown",
   "metadata": {},
   "source": [
    "Mira el resultado de la media. ¿Crees que el salario promedio mensual de USD 166,666,776.11 representa la realidad de nosotros? Pues no! Somos unos pobretones alante de Bill Gates. Pero como vimos arriba, la media va a tender donde se concentre la mayor cantidad de información, y en este caso la mayor cantidad de información la contiene un solo dato de todo el conjunto: el salario de Billy.\n",
    "\n",
    "Así que la próxima vez que uses la media, ten en cuenta la presencia de valores atípicos."
   ]
  },
  {
   "cell_type": "markdown",
   "metadata": {},
   "source": [
    "##### **La Mediana**\n",
    "\n",
    "La mediana es otra medida de tendencia central y, a diferencia de la media, no es susceptible ante la presencia de valores atípicos. La mediana viene siendo el dato que está justamente en el centro, independendientemente de lo que haya en los extremos.\n",
    "\n",
    "Tomemos el ejemplo anterior, incluyendo el salario de Billy y calculemos la mediana.\n"
   ]
  },
  {
   "cell_type": "code",
   "execution_count": 5,
   "metadata": {},
   "outputs": [
    {
     "data": {
      "text/plain": [
       "130.0"
      ]
     },
     "execution_count": 5,
     "metadata": {},
     "output_type": "execute_result"
    }
   ],
   "source": [
    "#Ahora usamos el método \"median\" sobre la lista \"salarios\" para extraer la mediana\n",
    "np.median(salarios)"
   ]
  },
  {
   "cell_type": "markdown",
   "metadata": {},
   "source": [
    "La mediana es USD 130. ¿Cuál crees que represente mejor el salario de la población? Los más de USD 160 MM que arrojó la media o la pírrica suma de USD 130 que nos dio la mediana?.\n",
    "\n",
    "La razón por que la mediana funciona mejor ante presencia de atípicos, es porque para calcularse debes organizar los datos de menor a mayor (o viceversa) y luego buscar el valor que está justamente en el medio. Por tanto, no importa que tantos valores atípicos tengas a la derecha o a la izquierda del conjunto, al final lo que buscas es el valor del centro.\n",
    "\n",
    "**TIP**\n",
    "\n",
    "Cuando tengas un conjunto de datos (incluyendo el que te pase tu jefe), calcula tanto la media y la mediana. Si ambas tienen valores similares, significa que tu conjunto de datos no tiene valores atípicos y no varía mucho. Si la media y mediana son muy distantes (como el caso anterior), significa que tu conjunto de datos tiene atípicos o mucha variación (es decir, es poco consistente)."
   ]
  },
  {
   "cell_type": "markdown",
   "metadata": {},
   "source": [
    "##### **La Moda**\n",
    "\n",
    "La moda es el valor que más se repite. El inconveniente con la moda es que puede que tu conjunto de datos no tenga moda o tenga más de una moda.\n",
    "\n",
    "Cuando tienes más de una moda se dice que tienes una distribución bimodal (si son dos) o multimodal (si son más de dos). Cuando graficas estos datos con un histograma, vas a notar que hay dos picos en el caso bimodal o múltiples picos.\n",
    "\n",
    "Cuando tus datos tienen más de una moda significa que tienes grupos mezclados en un mismo conjunto de datos. Por ejemplo, volvamos al caso de los salarios y extendamos la lista con nuevos valores."
   ]
  },
  {
   "cell_type": "code",
   "execution_count": 6,
   "metadata": {},
   "outputs": [
    {
     "data": {
      "text/plain": [
       "[130, 1000]"
      ]
     },
     "execution_count": 6,
     "metadata": {},
     "output_type": "execute_result"
    }
   ],
   "source": [
    "import statistics #Estamos importando otro módulo porque numpy no tiene una función que necesito para ilustrar el concepto\n",
    "\n",
    "#Aquí usamos el método extend de la lista. \n",
    "#Esto lo que hace es recibir como entrada una lista que quieras anexar al final de salarios. \n",
    "#En otras palabras, los valores que ves se añadieron a la lista que ya habíamos definido, preservando los valores anteriores.\n",
    "salarios.extend([130,130,130,1000,1000,1000,1000])\n",
    "\n",
    "#Usamos el método multimode para calcular los valores que más se repiten.\n",
    "statistics.multimode(salarios)"
   ]
  },
  {
   "cell_type": "markdown",
   "metadata": {},
   "source": [
    "Fíjate que con los nuevos datos que ingresamos ahora existen dos modas, una de 130 y otra de 1000. Una posible explicación es que hay dos grupos de salarios: Los pobretones de USD 130 y los ricachones que reciben USD 1000. En algunos escenarios, tal vez sea mejor separar los grupos para analizarlos por separados. En otros casos tal vez sea necesario estratificar para generar muestras homogéneas, en otras tal vez se tengan que transformar los datos, etc. Todo dependerá de lo que quieras hacer."
   ]
  },
  {
   "cell_type": "markdown",
   "metadata": {},
   "source": [
    "#### **Medidas de Dispersión**\n",
    "\n",
    "Las medidas de dispersión lo que hacen es determinar que tanta variación hay en nuestro conjunto de datos. En otras palabras, las medidas de dispersión nos dan una idea de que tan consistente son los datos de nuestro conjunto. \n",
    "\n",
    "**La Desviación Estándar (DE)**\n",
    "\n",
    "Para ponerlo en términos simples, la DE se podría decir que:\n",
    "\n",
    "**TURBULENCE AHEAD** \n",
    "\n",
    "**Es la distancia promedio de cada valor con respecto a su media.**\n",
    "\n",
    "Vamos a ver con qué se come eso.\n",
    "\n",
    "Tenemos el siguiente conjunto de datos:\n",
    "\n",
    "[1, 2, 3, 4, 5]\n",
    "\n",
    "Si calculas la media verás que te da un valor de 3 (no me creas, busca una calculadora y confírmalo. No seas haragán).\n",
    "\n",
    "Pero supongamos que ahora queremos saber que tan dispersos están los valores entre uno y otro, pero para poder hacer esto necesitamos tener una referencia contra la cual medir esta distancia. Así que tomamos la media como punto de referencia.\n",
    "\n",
    "**NOTA:** la DE no se calcula exactamente como lo muestro a continuación. Simplemente hago el ejercicio para entender el concepto. Más adelante veremos la fórmula verdadera.\n",
    "\n",
    "Calculemos la distancia de manera manual (cáculalo tu también. Que no te de flojera):\n",
    "\n",
    "* La distancia entre 1 y 3 es 2\n",
    "* La distancia entre 2 y 3 es 1\n",
    "* La distancia entre 3 y 3 es 0\n",
    "* La distencia entre 4 y 3 es 1\n",
    "* La distancia entre 5 y 3 es 2\n",
    "\n",
    "Ahora, vamos a promediar esas distancias: (2 + 1 + 0 + 1 +2)/5 = 1.2\n",
    "\n",
    "Ese 1.2 vendría siendo algo parecido a la DE estándar. Significa que los datos tienen en promedio una distancia de 1.2 unidades con respecto a su media. Mientras más grande es este número, mayor dispersión. Mientras más pequeño, menor dispersión (y por tanto mayor consistencia).\n",
    "\n",
    "Veamos cuál es la DE de nuestro conjunto de salarios."
   ]
  },
  {
   "cell_type": "code",
   "execution_count": 8,
   "metadata": {},
   "outputs": [
    {
     "data": {
      "text/plain": [
       "17.90556826799976"
      ]
     },
     "execution_count": 8,
     "metadata": {},
     "output_type": "execute_result"
    }
   ],
   "source": [
    "#Como hemos pullado tanto el conjunto salarios, preferí redefinirlo a sus valores originales.\n",
    "salarios = [100,150,130,115,100,113,145,132] \n",
    "\n",
    "np.std(salarios)"
   ]
  },
  {
   "cell_type": "markdown",
   "metadata": {},
   "source": [
    "La DE en este caso es de 17.90. Eso significa que los salarios varían en promedio USD 17.90 con respecto a la media (recuerda, el punto de referencia es la media).\n",
    "\n",
    "Ahora veamos que pasa si incluimos el salario de nuestro amigo Billy:"
   ]
  },
  {
   "cell_type": "code",
   "execution_count": 10,
   "metadata": {},
   "outputs": [
    {
     "data": {
      "text/plain": [
       "471404482.0965775"
      ]
     },
     "execution_count": 10,
     "metadata": {},
     "output_type": "execute_result"
    }
   ],
   "source": [
    "salarios.append(1500000000)\n",
    "\n",
    "np.std(salarios)"
   ]
  },
  {
   "cell_type": "markdown",
   "metadata": {},
   "source": [
    "Uuuf... se disparó. Eso significa que la DE tiene el mismo problema de la media, se verá afectada ante valores atípicos.\n",
    "\n",
    "Tiene sentido puesto que la DE usa como valor de referencia la media. Por tanto, si la media está podrida, pues la DE también lo estará."
   ]
  },
  {
   "cell_type": "markdown",
   "metadata": {},
   "source": [
    "##### **Los Percentiles**\n",
    "\n",
    "Los percentiles son otra forma de analizar los datos y consiste en dividir el conjunto de datos en 100 partes iguales (por eso el nombre de percentil). \n",
    "\n",
    "Por ejemplo, supongamos que queremos calcular el percentil 75. Esto significa que queremos encontrar el valor umbral donde se encuentra el 75% de los datos.\n",
    "\n",
    "Veamos un ejemplo con nuestro conjunto de salarios y busquemos justamente el percentil 75."
   ]
  },
  {
   "cell_type": "code",
   "execution_count": 14,
   "metadata": {},
   "outputs": [
    {
     "data": {
      "text/plain": [
       "145.0"
      ]
     },
     "execution_count": 14,
     "metadata": {},
     "output_type": "execute_result"
    }
   ],
   "source": [
    "np.percentile(salarios, q = 75)"
   ]
  },
  {
   "cell_type": "markdown",
   "metadata": {},
   "source": [
    "El percentil 75 es el valor de USD 145.00. Esto significa que el 75% de los datos caen por debajo del salario de los USD 145.00 (esperemos que este número se infle cuando terminemos MNA).\n",
    "\n",
    "Probemos otros valores a ver que pasa:"
   ]
  },
  {
   "cell_type": "code",
   "execution_count": 16,
   "metadata": {},
   "outputs": [
    {
     "name": "stdout",
     "output_type": "stream",
     "text": [
      "Percentil 25: 113.0\n",
      "Percentil 50: 130.0\n",
      "Percentil 75: 145.0\n"
     ]
    }
   ],
   "source": [
    "'''\n",
    "Aquí estamos usando la función print para imprimir datos en la consola. Te podrías preguntar\n",
    "que qué significa esa f delante del texto. Esa f significa format y es para poder mezclar texto con variables y aplicar formatos.\n",
    "\n",
    "Siempre que la f esté delante, puedes poner entre {} variables o cálculos simples para imprimir en la consola.\n",
    "\n",
    "Dentro de los {} se encuentra el método percentile de la librería numpy. Le paso a este método el conjunto de datos \"salarios\" y el percentil que quiero\n",
    "calcular como parte del parámetro \"q\" (ni idea por qué le llamaron así. Tal vez de quantile)\n",
    "'''\n",
    "\n",
    "print(f\"Percentil 25: {np.percentile(salarios, q = 25)}\")\n",
    "print(f\"Percentil 50: {np.percentile(salarios, q = 50)}\")\n",
    "print(f\"Percentil 75: {np.percentile(salarios, q = 75)}\")"
   ]
  },
  {
   "cell_type": "markdown",
   "metadata": {},
   "source": [
    "Lo que hicimos arriba fue calcular lo que se llaman los cuartiles, los cuales son el percentil 25 (primer cuartil), el percentil 50 (segundo cuartil o mediana) y el percentil 75 (tercer cuartil).\n",
    "\n",
    "Fíjate que el percentil 50 es exactamente la mediana, y es que la mediana realmente es un tipo de percentil. \n",
    "\n",
    "La interpretación de los cuartiles se hace de la siguiente manera:\n",
    "\n",
    "* El primer cuartil lo que te dice es que el 25% de los salarios están por debajo de USD 113.\n",
    "* La mediana, que ya la vimos, dice que el 50% de los datos está por debajo de USD 130\n",
    "* Mientras que el tercer cuartil te dice que el 75% de los datos está por debajo de USD 145.\n",
    "\n",
    "¿No me crees que la mediana y el percentil 50 es lo mismo?\n",
    "\n",
    "Vamos a calcular la mediana nuevamente"
   ]
  },
  {
   "cell_type": "code",
   "execution_count": 17,
   "metadata": {},
   "outputs": [
    {
     "data": {
      "text/plain": [
       "130.0"
      ]
     },
     "execution_count": 17,
     "metadata": {},
     "output_type": "execute_result"
    }
   ],
   "source": [
    "np.median(salarios)"
   ]
  },
  {
   "cell_type": "markdown",
   "metadata": {},
   "source": [
    "Nada más que agregar Sr. Juez"
   ]
  },
  {
   "cell_type": "markdown",
   "metadata": {},
   "source": [
    "##### **La Varianza**"
   ]
  },
  {
   "cell_type": "markdown",
   "metadata": {},
   "source": [
    "¿Recuerdas el ejemplo con el conjunto [1, 2, 3, 4, 5], donde calculamos las distancias?\n",
    "\n",
    "Bueno, pues está mal. Hay un pequeño error que cometimos y aquí te lo presento:\n",
    "\n",
    "\n",
    "* La distancia entre 1 y 3 es -2\n",
    "* La distancia entre 2 y 3 es -1\n",
    "* La distancia entre 3 y 3 es 0\n",
    "* La distencia entre 4 y 3 es 1\n",
    "* La distancia entre 5 y 3 es 2\n",
    "\n",
    "Fíjate que la distancia entre 1 y 3 es -2 porque 1 - 3 = -2.\n",
    "\n",
    "Ahora tratemos de calcular la distancia promedio:\n",
    "\n",
    "-2 -1 + 0 + 1 + 2 = 0\n",
    "\n",
    "Que lío. Ahora todo se hace cero. \n",
    "\n",
    "Pero los matemáticos inventaron una forma de salirse debajo del camión: La Varianza.\n",
    "\n",
    "Básicamente lo que esto hace es elevar todo al cuadrado para evitar que se cancelen los números (ya que todo número elevado al cuadrado es positivo):\n",
    "\n",
    "$-2^{2}$ + $-1^{2}$ +  ... + $2^{2}$ = 10\n",
    "\n",
    "Si calculamos la media, tendremos: $\\frac{10}{5}$\t = 2\n",
    "\n",
    "Pero tenemos un problema. El resultado que acabamos de calcular está al cuadrado, por lo que tenemos que hacer el proceso inverso calculando la raiz caudrada:\n",
    "\n",
    "DE = $\\sqrt{2}$ = 1.4\n",
    "\n",
    "En pocas palabras, la varianza y la DE están muy relacionadas, puesto que una es el cuadrado de la otra.\n",
    "\n",
    "La técnica de la varianza juega un papel muy importante en temas avanzados de estadística. Su fórmula podría variar dependiendo de la técnica, pero el concepto sigue siendo el mismo.\n",
    "\n",
    "El único problema de la varianza es que su resultado no está en las unidades originales del conjunto de datos, por lo que dificulta su interpretación. En este caso, el resultado de la varianza fue 2, lo que significa USD 2 dólares-cuadrado.\n"
   ]
  },
  {
   "cell_type": "markdown",
   "metadata": {},
   "source": [
    "##### **Rango**\n",
    "\n",
    "El rango es una medida de dispersión muy sencilla de calcular. Básicamente consiste en restar el valor máximo del mínimo.\n",
    "\n",
    "El rango, como dice su nombre, te indica que tan amplio es tu conjunto de datos. El gran problema con el rango es que es demasiado sensible a valores extremos (atípicos). De hecho, es más llorón que la DE.\n",
    "\n",
    "Veamos un ejemplo:"
   ]
  },
  {
   "cell_type": "code",
   "execution_count": 21,
   "metadata": {},
   "outputs": [
    {
     "data": {
      "text/plain": [
       "1499999900"
      ]
     },
     "execution_count": 21,
     "metadata": {},
     "output_type": "execute_result"
    }
   ],
   "source": [
    "np.max(salarios) - np.min(salarios)"
   ]
  },
  {
   "cell_type": "markdown",
   "metadata": {},
   "source": [
    "Como el conjunto de datos incluye el salario de nuestro amigo Billy, da un valor demasiado alto y que no representa la variabilidad promedio de nuestros datos. \n",
    "\n",
    "A continuación, veamos otra medida que nos podría ayudar ante esta situación."
   ]
  },
  {
   "cell_type": "markdown",
   "metadata": {},
   "source": [
    "##### **Rango Intercuartil**\n",
    "\n",
    "Esta es otra medida de dispersión y básicamente consiste en calcular el rango que hay entre el cuartil 1 (percentil 25) y cuartil 3 (percentil 75).\n",
    "\n",
    "Veamos un ejemplo:"
   ]
  },
  {
   "cell_type": "code",
   "execution_count": 20,
   "metadata": {},
   "outputs": [
    {
     "data": {
      "text/plain": [
       "32.0"
      ]
     },
     "execution_count": 20,
     "metadata": {},
     "output_type": "execute_result"
    }
   ],
   "source": [
    "IQR = np.percentile(salarios, q = 75) - np.percentile(salarios, q = 25)\n",
    "IQR"
   ]
  },
  {
   "cell_type": "markdown",
   "metadata": {},
   "source": [
    "Lo anterior significa que el rango de los datos que están en el centro es de USD 32.00. El rango intercuartil es el análogo a la mediana, y al igual que la mediana no es sensible a valores atípicos.\n",
    "\n",
    "Fíjate que hicimos el cálculo con el salario de Billy incluido, y a pesar de eso nos dio un valor más razonable que el rango.\n",
    "\n",
    "Por tanto, si tienes valores atípicos o mucha variabilidad en tus datos, tal vez sea mejor analizar el rango intercuartil."
   ]
  },
  {
   "cell_type": "markdown",
   "metadata": {},
   "source": [
    "#### **Población vs Muestra**\n",
    "\n",
    "\n",
    "En la mayoría de los casos no podremos contar con todos los datos de la población y por tanto debemos estudiar una muestra, y con base en la muestra entonces inferenciar un parámetro de la población. Esto significa que además de la estadística descriptiva, también tenemos la estadística inferencial.\n",
    "\n",
    "Ahora bien, los conceptos que vimos anteriormente aplican tanto para la estadística descriptiva como inferencial, sin embargo, algunas de las fórmulas podrían variar (como la DE) dependiendo si estamos trabajando con una muestra o una población. Es por ello que al referirnos a una media de la muestra la denotamos con un símbolo diferente a la media de la población.\n",
    "\n",
    "A continuación te presento los símbolos que normalmente se usan:\n",
    "\n",
    "* Media de la muestra: $\\bar{X}$\n",
    "* Media de la población $\\mu$ (se pronuncia miu)\n",
    "* Desviación Estándar de la muestra: s\n",
    "* Desviación Estándar de la población: $\\sigma$ (se pronuncia sigma)\n",
    "* Varianza de la muestra: $s^{2}$\n",
    "* Varianza de la población: $\\sigma^{2}$\n"
   ]
  }
 ],
 "metadata": {
  "kernelspec": {
   "display_name": "Python 3.9.7 ('base')",
   "language": "python",
   "name": "python3"
  },
  "language_info": {
   "codemirror_mode": {
    "name": "ipython",
    "version": 3
   },
   "file_extension": ".py",
   "mimetype": "text/x-python",
   "name": "python",
   "nbconvert_exporter": "python",
   "pygments_lexer": "ipython3",
   "version": "3.9.7"
  },
  "orig_nbformat": 4,
  "vscode": {
   "interpreter": {
    "hash": "a45cc4a1e8f4356b8744a09c08687f3a5162f6e6540e2de8bac6b2366a25a49e"
   }
  }
 },
 "nbformat": 4,
 "nbformat_minor": 2
}
